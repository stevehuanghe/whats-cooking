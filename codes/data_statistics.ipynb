{
 "cells": [
  {
   "cell_type": "code",
   "execution_count": 2,
   "metadata": {
    "collapsed": false
   },
   "outputs": [
    {
     "name": "stdout",
     "output_type": "stream",
     "text": [
      "data loaded\n"
     ]
    },
    {
     "ename": "TypeError",
     "evalue": "descriptor 'lower' requires a 'str' object but received a 'unicode'",
     "output_type": "error",
     "traceback": [
      "\u001b[0;31m---------------------------------------------------------------------------\u001b[0m",
      "\u001b[0;31mTypeError\u001b[0m                                 Traceback (most recent call last)",
      "\u001b[0;32m<ipython-input-2-464041d4cf5d>\u001b[0m in \u001b[0;36m<module>\u001b[0;34m()\u001b[0m\n\u001b[1;32m     52\u001b[0m \u001b[0;34m\u001b[0m\u001b[0m\n\u001b[1;32m     53\u001b[0m \u001b[0;31m# The number of times each ingredient is used is stored in the 'sumbags' dictionary\u001b[0m\u001b[0;34m\u001b[0m\u001b[0;34m\u001b[0m\u001b[0m\n\u001b[0;32m---> 54\u001b[0;31m \u001b[0mbags_of_words\u001b[0m \u001b[0;34m=\u001b[0m \u001b[0;34m[\u001b[0m \u001b[0mCounter\u001b[0m\u001b[0;34m(\u001b[0m\u001b[0mclean_recipe\u001b[0m\u001b[0;34m(\u001b[0m\u001b[0mrecipe\u001b[0m\u001b[0;34m)\u001b[0m\u001b[0;34m)\u001b[0m \u001b[0;32mfor\u001b[0m \u001b[0mrecipe\u001b[0m \u001b[0;32min\u001b[0m \u001b[0mtrain\u001b[0m\u001b[0;34m.\u001b[0m\u001b[0mingredients\u001b[0m \u001b[0;34m]\u001b[0m\u001b[0;34m\u001b[0m\u001b[0m\n\u001b[0m\u001b[1;32m     55\u001b[0m \u001b[0msumbags\u001b[0m \u001b[0;34m=\u001b[0m \u001b[0msum\u001b[0m\u001b[0;34m(\u001b[0m\u001b[0mbags_of_words\u001b[0m\u001b[0;34m,\u001b[0m \u001b[0mCounter\u001b[0m\u001b[0;34m(\u001b[0m\u001b[0;34m)\u001b[0m\u001b[0;34m)\u001b[0m\u001b[0;34m\u001b[0m\u001b[0m\n\u001b[1;32m     56\u001b[0m \u001b[0;32mprint\u001b[0m \u001b[0;34m'plotting...'\u001b[0m\u001b[0;34m\u001b[0m\u001b[0m\n",
      "\u001b[0;32m<ipython-input-2-464041d4cf5d>\u001b[0m in \u001b[0;36mclean_recipe\u001b[0;34m(recipe)\u001b[0m\n\u001b[1;32m     27\u001b[0m \u001b[0;32mdef\u001b[0m \u001b[0mclean_recipe\u001b[0m\u001b[0;34m(\u001b[0m\u001b[0mrecipe\u001b[0m\u001b[0;34m)\u001b[0m\u001b[0;34m:\u001b[0m\u001b[0;34m\u001b[0m\u001b[0m\n\u001b[1;32m     28\u001b[0m     \u001b[0;31m# To lowercase\u001b[0m\u001b[0;34m\u001b[0m\u001b[0;34m\u001b[0m\u001b[0m\n\u001b[0;32m---> 29\u001b[0;31m     \u001b[0mrecipe\u001b[0m \u001b[0;34m=\u001b[0m \u001b[0;34m[\u001b[0m \u001b[0mstr\u001b[0m\u001b[0;34m.\u001b[0m\u001b[0mlower\u001b[0m\u001b[0;34m(\u001b[0m\u001b[0mi\u001b[0m\u001b[0;34m)\u001b[0m \u001b[0;32mfor\u001b[0m \u001b[0mi\u001b[0m \u001b[0;32min\u001b[0m \u001b[0mrecipe\u001b[0m \u001b[0;34m]\u001b[0m\u001b[0;34m\u001b[0m\u001b[0m\n\u001b[0m\u001b[1;32m     30\u001b[0m \u001b[0;34m\u001b[0m\u001b[0m\n\u001b[1;32m     31\u001b[0m     \u001b[0;31m# Remove some special characters\u001b[0m\u001b[0;34m\u001b[0m\u001b[0;34m\u001b[0m\u001b[0m\n",
      "\u001b[0;31mTypeError\u001b[0m: descriptor 'lower' requires a 'str' object but received a 'unicode'"
     ]
    }
   ],
   "source": [
    "#\n",
    "# This script creates a plot with the 10 most used ingredients.\n",
    "#\n",
    "# The original recipe, contained in the 'ingredients' column, is cleaned as follow:\n",
    "#\n",
    "# - to lowecase\n",
    "# - replacing symbols\n",
    "# - removing digits\n",
    "# - stemming the words using the WordNetLemmatizer\n",
    "#\n",
    "# The ingredients should be cleaned mote, making 'low fat mozzarella' and \n",
    "# 'reduced fat mozzarella' the same ingredient. Ideas are welcome.\n",
    "# \n",
    "\n",
    "import pandas as pd\n",
    "import matplotlib.pyplot as plt\n",
    "from nltk.stem import WordNetLemmatizer\n",
    "from collections import Counter\n",
    "\n",
    "# Reading the data\n",
    "train = pd.read_json('../data/train.json')\n",
    "print 'data loaded'\n",
    "stemmer = WordNetLemmatizer()\n",
    "#cachedStopWords = stopwords.words(\"english\")\n",
    "\n",
    "# Auxiliar function for cleaning\n",
    "def clean_recipe(recipe):\n",
    "    # To lowercase\n",
    "    recipe = [ str.lower(i) for i in recipe ]\n",
    "\n",
    "    # Remove some special characters\n",
    "    # Individuals replace have a very good performance\n",
    "    # http://stackoverflow.com/a/27086669/670873\n",
    "    def replacing(i):\n",
    "        i = i.replace('&', '').replace('(', '').replace(')','')\n",
    "        i = i.replace('\\'', '').replace('\\\\', '').replace(',','')\n",
    "        i = i.replace('.', '').replace('%', '').replace('/','')\n",
    "        i = i.replace('\"', '')\n",
    "        \n",
    "        return i\n",
    "    \n",
    "    # Replacing characters\n",
    "    recipe = [ replacing(i) for i in recipe ]\n",
    "    \n",
    "    # Remove digits\n",
    "    recipe = [ i for i in recipe if not i.isdigit() ]\n",
    "    \n",
    "    # Stem ingredients\n",
    "    recipe = [ stemmer.lemmatize(i) for i in recipe ]\n",
    "    \n",
    "    return recipe\n",
    "\n",
    "# The number of times each ingredient is used is stored in the 'sumbags' dictionary\n",
    "bags_of_words = [ Counter(clean_recipe(recipe)) for recipe in train.ingredients ]\n",
    "sumbags = sum(bags_of_words, Counter())\n",
    "print 'plotting...'\n",
    "# Finally, plot the 10 most used ingredients\n",
    "plt.style.use(u'ggplot')\n",
    "fig = pd.DataFrame(sumbags, index=[0]).transpose()[0].sort(ascending=False, inplace=False)[:10].plot(kind='barh')\n",
    "fig.invert_yaxis()\n",
    "fig = fig.get_figure()\n",
    "fig.tight_layout()\n",
    "fig.savefig('10_most_used_ingredients.jpg')\n"
   ]
  },
  {
   "cell_type": "code",
   "execution_count": null,
   "metadata": {
    "collapsed": true
   },
   "outputs": [],
   "source": []
  }
 ],
 "metadata": {
  "kernelspec": {
   "display_name": "Python 2",
   "language": "python",
   "name": "python2"
  },
  "language_info": {
   "codemirror_mode": {
    "name": "ipython",
    "version": 2
   },
   "file_extension": ".py",
   "mimetype": "text/x-python",
   "name": "python",
   "nbconvert_exporter": "python",
   "pygments_lexer": "ipython2",
   "version": "2.7.9"
  }
 },
 "nbformat": 4,
 "nbformat_minor": 0
}
